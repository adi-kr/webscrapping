{
  "nbformat": 4,
  "nbformat_minor": 0,
  "metadata": {
    "colab": {
      "provenance": []
    },
    "kernelspec": {
      "name": "python3",
      "display_name": "Python 3"
    },
    "language_info": {
      "name": "python"
    }
  },
  "cells": [
    {
      "cell_type": "code",
      "execution_count": null,
      "metadata": {
        "colab": {
          "base_uri": "https://localhost:8080/"
        },
        "id": "yUVUUIxEPvee",
        "outputId": "f0992782-a044-41c1-8d65-3e92a758c018"
      },
      "outputs": [
        {
          "output_type": "stream",
          "name": "stdout",
          "text": [
            "Requirement already satisfied: requests in /usr/local/lib/python3.10/dist-packages (2.31.0)\n",
            "Requirement already satisfied: beautifulsoup4 in /usr/local/lib/python3.10/dist-packages (4.12.3)\n",
            "Requirement already satisfied: pandas in /usr/local/lib/python3.10/dist-packages (1.5.3)\n",
            "Requirement already satisfied: charset-normalizer<4,>=2 in /usr/local/lib/python3.10/dist-packages (from requests) (3.3.2)\n",
            "Requirement already satisfied: idna<4,>=2.5 in /usr/local/lib/python3.10/dist-packages (from requests) (3.6)\n",
            "Requirement already satisfied: urllib3<3,>=1.21.1 in /usr/local/lib/python3.10/dist-packages (from requests) (2.0.7)\n",
            "Requirement already satisfied: certifi>=2017.4.17 in /usr/local/lib/python3.10/dist-packages (from requests) (2024.2.2)\n",
            "Requirement already satisfied: soupsieve>1.2 in /usr/local/lib/python3.10/dist-packages (from beautifulsoup4) (2.5)\n",
            "Requirement already satisfied: python-dateutil>=2.8.1 in /usr/local/lib/python3.10/dist-packages (from pandas) (2.8.2)\n",
            "Requirement already satisfied: pytz>=2020.1 in /usr/local/lib/python3.10/dist-packages (from pandas) (2023.4)\n",
            "Requirement already satisfied: numpy>=1.21.0 in /usr/local/lib/python3.10/dist-packages (from pandas) (1.25.2)\n",
            "Requirement already satisfied: six>=1.5 in /usr/local/lib/python3.10/dist-packages (from python-dateutil>=2.8.1->pandas) (1.16.0)\n"
          ]
        }
      ],
      "source": [
        "pip install requests beautifulsoup4 pandas"
      ]
    },
    {
      "cell_type": "code",
      "source": [
        "pip install google"
      ],
      "metadata": {
        "colab": {
          "base_uri": "https://localhost:8080/"
        },
        "id": "Hpw7_Jv6QMTw",
        "outputId": "e1c0cdd0-913d-4554-cb79-424e17d24df7"
      },
      "execution_count": null,
      "outputs": [
        {
          "output_type": "stream",
          "name": "stdout",
          "text": [
            "Requirement already satisfied: google in /usr/local/lib/python3.10/dist-packages (2.0.3)\n",
            "Requirement already satisfied: beautifulsoup4 in /usr/local/lib/python3.10/dist-packages (from google) (4.12.3)\n",
            "Requirement already satisfied: soupsieve>1.2 in /usr/local/lib/python3.10/dist-packages (from beautifulsoup4->google) (2.5)\n"
          ]
        }
      ]
    },
    {
      "cell_type": "code",
      "source": [
        "import csv"
      ],
      "metadata": {
        "id": "j1JbHjkjEq59"
      },
      "execution_count": null,
      "outputs": []
    },
    {
      "cell_type": "code",
      "source": [
        "li=[]\n",
        "try:\n",
        "\tfrom googlesearch import search\n",
        "except ImportError:\n",
        "\tprint(\"No module named 'google' found\")\n",
        "\n",
        "# to search\n",
        "query = \"industry in which Canoo operates\"\n",
        "\n",
        "for j in search(query, tld=\"co.in\", num=20, stop=20, pause=2):\n",
        "\tli.append(j)\n",
        "\n",
        "for i in li:\n",
        "  print (i)\n",
        "\n"
      ],
      "metadata": {
        "colab": {
          "base_uri": "https://localhost:8080/"
        },
        "id": "9t4Q6VE7QStK",
        "outputId": "18e7f150-692a-4295-a038-16c5b0b4fdb6"
      },
      "execution_count": null,
      "outputs": [
        {
          "output_type": "stream",
          "name": "stdout",
          "text": [
            "https://en.wikipedia.org/wiki/Canoo\n",
            "https://www.canoo.com/about/\n",
            "https://www.canoo.com/\n",
            "https://investors.canoo.com/company-information\n",
            "https://www.globaldata.com/company-profile/canoo-inc/\n",
            "https://www.industryweek.com/leadership/companies-executives/article/21263239/canoo-sticks-to-2023-production-target\n",
            "https://www.press.canoo.com/press-release/canoo-announces-ev-battery-module-manufacturing-facility-in-oklahoma\n",
            "https://www.prnewswire.com/news-releases/canoo-delivering-first-made-in-oklahoma-electric-vehicles-to-state-government-301985717.html\n",
            "https://investors.canoo.com/\n",
            "https://www.bloomberg.com/profile/company/GOEV:US\n",
            "https://tulsaworld.com/news/local/business/canoos-proposed-electric-vehicle-plant-in-pryor-could-be-delayed-industrial-park-head-says/article_4421c660-f896-11ec-945c-93628edd01aa.html\n",
            "https://www.linkedin.com/company/canoo\n",
            "https://www.designdevelopmenttoday.com/industries/automotive/news/22879105/canoo-begins-shipping-evs-from-its-oklahoma-factory\n",
            "https://readwrite.com/canoo-the-ev-startup-thats-proving-the-doubters-wrong/\n",
            "https://www.canoo.com/fleet\n",
            "https://www.prnewswire.com/news-releases/pawnee-nation-and-canoo-partner-for-clean-technology-jobs-and-growth-301934647.html\n",
            "https://www.motortrend.com/news/canoo-lifestyle-van-pickup-forward-control-electric-vehicle/\n",
            "https://okcfox.com/news/local/canoo-aims-to-bring-500-jobs-to-oklahoma-city-with-a-new-manufacturing-facility-government-incentive-terex-electric-vehicle-job-cars-oil-gas-economy-future-clean-energy-panasonic-governor-stitt\n",
            "https://www.oklahoman.com/story/news/2023/04/07/canoo-pays-34-27-million-for-okc-plant-for-building-electric-vehicles/70094236007/\n",
            "https://www.youtube.com/watch?v=QLA2W7OQnIk\n"
          ]
        }
      ]
    },
    {
      "cell_type": "code",
      "source": [
        "import requests as req\n",
        "\n",
        "from bs4 import BeautifulSoup\n",
        "import pandas"
      ],
      "metadata": {
        "id": "ERLBhqxvQfrM"
      },
      "execution_count": null,
      "outputs": []
    },
    {
      "cell_type": "code",
      "source": [
        "data=[]\n",
        "for i in li:\n",
        "  res=req.get(i)\n",
        "  # print(i,res)\n",
        "  soup = BeautifulSoup(res.content, \"html.parser\")\n",
        "# Extract the text content of the webpage\n",
        "  txt = soup.get_text()\n",
        "# print(text)\n",
        "  # text=soup.find(string='canoo')\n",
        "  # print(txt)\n",
        "\n",
        "\n",
        "\n"
      ],
      "metadata": {
        "id": "0iEmaKJWRg9i"
      },
      "execution_count": null,
      "outputs": []
    },
    {
      "cell_type": "code",
      "source": [
        "!pip install newspaper3k\n",
        "!pip install bs4\n",
        "!pip install readability"
      ],
      "metadata": {
        "colab": {
          "base_uri": "https://localhost:8080/"
        },
        "id": "yZPGAM3AtOa2",
        "outputId": "6cb0262e-8387-4aa1-c592-a38fdb207e6b"
      },
      "execution_count": null,
      "outputs": [
        {
          "output_type": "stream",
          "name": "stdout",
          "text": [
            "Collecting newspaper3k\n",
            "  Downloading newspaper3k-0.2.8-py3-none-any.whl (211 kB)\n",
            "\u001b[?25l     \u001b[90m━━━━━━━━━━━━━━━━━━━━━━━━━━━━━━━━━━━━━━━━\u001b[0m \u001b[32m0.0/211.1 kB\u001b[0m \u001b[31m?\u001b[0m eta \u001b[36m-:--:--\u001b[0m\r\u001b[2K     \u001b[91m━━━━━━━━━━━━━━━━━━━━━━━━━━━━━━━━━━\u001b[0m\u001b[91m╸\u001b[0m\u001b[90m━━━━━\u001b[0m \u001b[32m184.3/211.1 kB\u001b[0m \u001b[31m5.3 MB/s\u001b[0m eta \u001b[36m0:00:01\u001b[0m\r\u001b[2K     \u001b[90m━━━━━━━━━━━━━━━━━━━━━━━━━━━━━━━━━━━━━━━━\u001b[0m \u001b[32m211.1/211.1 kB\u001b[0m \u001b[31m4.5 MB/s\u001b[0m eta \u001b[36m0:00:00\u001b[0m\n",
            "\u001b[?25hRequirement already satisfied: beautifulsoup4>=4.4.1 in /usr/local/lib/python3.10/dist-packages (from newspaper3k) (4.12.3)\n",
            "Requirement already satisfied: Pillow>=3.3.0 in /usr/local/lib/python3.10/dist-packages (from newspaper3k) (9.4.0)\n",
            "Requirement already satisfied: PyYAML>=3.11 in /usr/local/lib/python3.10/dist-packages (from newspaper3k) (6.0.1)\n",
            "Collecting cssselect>=0.9.2 (from newspaper3k)\n",
            "  Downloading cssselect-1.2.0-py2.py3-none-any.whl (18 kB)\n",
            "Requirement already satisfied: lxml>=3.6.0 in /usr/local/lib/python3.10/dist-packages (from newspaper3k) (4.9.4)\n",
            "Requirement already satisfied: nltk>=3.2.1 in /usr/local/lib/python3.10/dist-packages (from newspaper3k) (3.8.1)\n",
            "Requirement already satisfied: requests>=2.10.0 in /usr/local/lib/python3.10/dist-packages (from newspaper3k) (2.31.0)\n",
            "Collecting feedparser>=5.2.1 (from newspaper3k)\n",
            "  Downloading feedparser-6.0.11-py3-none-any.whl (81 kB)\n",
            "\u001b[2K     \u001b[90m━━━━━━━━━━━━━━━━━━━━━━━━━━━━━━━━━━━━━━━━\u001b[0m \u001b[32m81.3/81.3 kB\u001b[0m \u001b[31m9.7 MB/s\u001b[0m eta \u001b[36m0:00:00\u001b[0m\n",
            "\u001b[?25hCollecting tldextract>=2.0.1 (from newspaper3k)\n",
            "  Downloading tldextract-5.1.1-py3-none-any.whl (97 kB)\n",
            "\u001b[2K     \u001b[90m━━━━━━━━━━━━━━━━━━━━━━━━━━━━━━━━━━━━━━━━\u001b[0m \u001b[32m97.7/97.7 kB\u001b[0m \u001b[31m11.5 MB/s\u001b[0m eta \u001b[36m0:00:00\u001b[0m\n",
            "\u001b[?25hCollecting feedfinder2>=0.0.4 (from newspaper3k)\n",
            "  Downloading feedfinder2-0.0.4.tar.gz (3.3 kB)\n",
            "  Preparing metadata (setup.py) ... \u001b[?25l\u001b[?25hdone\n",
            "Collecting jieba3k>=0.35.1 (from newspaper3k)\n",
            "  Downloading jieba3k-0.35.1.zip (7.4 MB)\n",
            "\u001b[2K     \u001b[90m━━━━━━━━━━━━━━━━━━━━━━━━━━━━━━━━━━━━━━━━\u001b[0m \u001b[32m7.4/7.4 MB\u001b[0m \u001b[31m20.1 MB/s\u001b[0m eta \u001b[36m0:00:00\u001b[0m\n",
            "\u001b[?25h  Preparing metadata (setup.py) ... \u001b[?25l\u001b[?25hdone\n",
            "Requirement already satisfied: python-dateutil>=2.5.3 in /usr/local/lib/python3.10/dist-packages (from newspaper3k) (2.8.2)\n",
            "Collecting tinysegmenter==0.3 (from newspaper3k)\n",
            "  Downloading tinysegmenter-0.3.tar.gz (16 kB)\n",
            "  Preparing metadata (setup.py) ... \u001b[?25l\u001b[?25hdone\n",
            "Requirement already satisfied: soupsieve>1.2 in /usr/local/lib/python3.10/dist-packages (from beautifulsoup4>=4.4.1->newspaper3k) (2.5)\n",
            "Requirement already satisfied: six in /usr/local/lib/python3.10/dist-packages (from feedfinder2>=0.0.4->newspaper3k) (1.16.0)\n",
            "Collecting sgmllib3k (from feedparser>=5.2.1->newspaper3k)\n",
            "  Downloading sgmllib3k-1.0.0.tar.gz (5.8 kB)\n",
            "  Preparing metadata (setup.py) ... \u001b[?25l\u001b[?25hdone\n",
            "Requirement already satisfied: click in /usr/local/lib/python3.10/dist-packages (from nltk>=3.2.1->newspaper3k) (8.1.7)\n",
            "Requirement already satisfied: joblib in /usr/local/lib/python3.10/dist-packages (from nltk>=3.2.1->newspaper3k) (1.3.2)\n",
            "Requirement already satisfied: regex>=2021.8.3 in /usr/local/lib/python3.10/dist-packages (from nltk>=3.2.1->newspaper3k) (2023.12.25)\n",
            "Requirement already satisfied: tqdm in /usr/local/lib/python3.10/dist-packages (from nltk>=3.2.1->newspaper3k) (4.66.2)\n",
            "Requirement already satisfied: charset-normalizer<4,>=2 in /usr/local/lib/python3.10/dist-packages (from requests>=2.10.0->newspaper3k) (3.3.2)\n",
            "Requirement already satisfied: idna<4,>=2.5 in /usr/local/lib/python3.10/dist-packages (from requests>=2.10.0->newspaper3k) (3.6)\n",
            "Requirement already satisfied: urllib3<3,>=1.21.1 in /usr/local/lib/python3.10/dist-packages (from requests>=2.10.0->newspaper3k) (2.0.7)\n",
            "Requirement already satisfied: certifi>=2017.4.17 in /usr/local/lib/python3.10/dist-packages (from requests>=2.10.0->newspaper3k) (2024.2.2)\n",
            "Collecting requests-file>=1.4 (from tldextract>=2.0.1->newspaper3k)\n",
            "  Downloading requests_file-2.0.0-py2.py3-none-any.whl (4.2 kB)\n",
            "Requirement already satisfied: filelock>=3.0.8 in /usr/local/lib/python3.10/dist-packages (from tldextract>=2.0.1->newspaper3k) (3.13.1)\n",
            "Building wheels for collected packages: tinysegmenter, feedfinder2, jieba3k, sgmllib3k\n",
            "  Building wheel for tinysegmenter (setup.py) ... \u001b[?25l\u001b[?25hdone\n",
            "  Created wheel for tinysegmenter: filename=tinysegmenter-0.3-py3-none-any.whl size=13538 sha256=e075b7eaf7d792fd1b47b1c286c73bfc6ab412ace3e24f29dc69268679f26fda\n",
            "  Stored in directory: /root/.cache/pip/wheels/c8/d6/6c/384f58df48c00b9a31d638005143b5b3ac62c3d25fb1447f23\n",
            "  Building wheel for feedfinder2 (setup.py) ... \u001b[?25l\u001b[?25hdone\n",
            "  Created wheel for feedfinder2: filename=feedfinder2-0.0.4-py3-none-any.whl size=3340 sha256=bb3df5b41b7299d614a49507ea5aabc3ce0f6843522645c4bf33379865503ef1\n",
            "  Stored in directory: /root/.cache/pip/wheels/97/02/e7/a1ff1760e12bdbaab0ac824fae5c1bc933e41c4ccd6a8f8edb\n",
            "  Building wheel for jieba3k (setup.py) ... \u001b[?25l\u001b[?25hdone\n",
            "  Created wheel for jieba3k: filename=jieba3k-0.35.1-py3-none-any.whl size=7398381 sha256=3440181c561ea02974ef9649ff2d66abee9d4c13c9eb4611fa5779c4278aaabf\n",
            "  Stored in directory: /root/.cache/pip/wheels/7a/c4/0c/12a9a314ecac499456c4c3b2fcc2f635a3b45a39dfbd240299\n",
            "  Building wheel for sgmllib3k (setup.py) ... \u001b[?25l\u001b[?25hdone\n",
            "  Created wheel for sgmllib3k: filename=sgmllib3k-1.0.0-py3-none-any.whl size=6048 sha256=37e40e0f804572918b83f91c5b3e1376057172a31112a5954481c5cd66246a35\n",
            "  Stored in directory: /root/.cache/pip/wheels/f0/69/93/a47e9d621be168e9e33c7ce60524393c0b92ae83cf6c6e89c5\n",
            "Successfully built tinysegmenter feedfinder2 jieba3k sgmllib3k\n",
            "Installing collected packages: tinysegmenter, sgmllib3k, jieba3k, feedparser, cssselect, requests-file, feedfinder2, tldextract, newspaper3k\n",
            "Successfully installed cssselect-1.2.0 feedfinder2-0.0.4 feedparser-6.0.11 jieba3k-0.35.1 newspaper3k-0.2.8 requests-file-2.0.0 sgmllib3k-1.0.0 tinysegmenter-0.3 tldextract-5.1.1\n",
            "Collecting bs4\n",
            "  Downloading bs4-0.0.2-py2.py3-none-any.whl (1.2 kB)\n",
            "Requirement already satisfied: beautifulsoup4 in /usr/local/lib/python3.10/dist-packages (from bs4) (4.12.3)\n",
            "Requirement already satisfied: soupsieve>1.2 in /usr/local/lib/python3.10/dist-packages (from beautifulsoup4->bs4) (2.5)\n",
            "Installing collected packages: bs4\n",
            "Successfully installed bs4-0.0.2\n",
            "Collecting readability\n",
            "  Downloading readability-0.3.1.tar.gz (34 kB)\n",
            "  Preparing metadata (setup.py) ... \u001b[?25l\u001b[?25hdone\n",
            "Building wheels for collected packages: readability\n",
            "  Building wheel for readability (setup.py) ... \u001b[?25l\u001b[?25hdone\n",
            "  Created wheel for readability: filename=readability-0.3.1-py3-none-any.whl size=35459 sha256=1b6f372de92fd0b134eec028538bc27ef7abf76487f0278573abdb4062dd82df\n",
            "  Stored in directory: /root/.cache/pip/wheels/05/07/4d/2e3a0aaba1713619a403e1a3c56e88a6fc12d753872b98771c\n",
            "Successfully built readability\n",
            "Installing collected packages: readability\n",
            "Successfully installed readability-0.3.1\n"
          ]
        }
      ]
    },
    {
      "cell_type": "code",
      "source": [
        "import nltk\n",
        "nltk.download('punkt')\n",
        "from newspaper import Article\n",
        "import requests\n",
        "\n",
        "# from readability.readability import Document as Paper\n",
        "from requests.packages.urllib3.exceptions import InsecureRequestWarning\n",
        "import re"
      ],
      "metadata": {
        "colab": {
          "base_uri": "https://localhost:8080/"
        },
        "id": "7bQkTLLwVTZh",
        "outputId": "dca48fd2-7de7-47d9-c696-5b09c2f641f0"
      },
      "execution_count": null,
      "outputs": [
        {
          "output_type": "stream",
          "name": "stderr",
          "text": [
            "[nltk_data] Downloading package punkt to /root/nltk_data...\n",
            "[nltk_data]   Unzipping tokenizers/punkt.zip.\n"
          ]
        }
      ]
    },
    {
      "cell_type": "code",
      "source": [
        "import itertools\n",
        "li1=[]\n",
        "for i in li:\n",
        "  url=i\n",
        "  article=Article(url)\n",
        "  try:\n",
        "    article.download()\n",
        "    article.parse()\n",
        "    article.text\n",
        "    article.nlp()\n",
        "\n",
        "  except:\n",
        "    pass\n",
        "  print(article.keywords)\n",
        "  temp=article.keywords\n",
        "  li1.append(temp)\n",
        "filename = \"company.csv\"\n",
        "with open(filename, 'w') as csvfile:\n",
        "    # creating a csv writer object\n",
        "  csvwriter = csv.writer(csvfile)\n",
        "  csvwriter.writerows(list(itertools.zip_longest(*li1, fillvalue='')))\n",
        "\n"
      ],
      "metadata": {
        "colab": {
          "base_uri": "https://localhost:8080/"
        },
        "id": "SSh74auHct04",
        "outputId": "3b27d440-bdd7-43f9-8087-9fae97e9e2d2"
      },
      "execution_count": null,
      "outputs": [
        {
          "output_type": "stream",
          "name": "stdout",
          "text": [
            "['company', '2021', 'canoo', 'wikipedia', 'production', 'vehicles', 'announced', '2022', 'electric', 'vehicle', 'plant']\n",
            "['company', 'lifecycle', 'texas', 'vehicledistinguished', 'automotive', 'wide', 'leading', 'uscanoos', 'technologies', 'vehicle', 'unique', 'technology']\n",
            "[]\n",
            "['company', 'canoo', 'information', 'automotive', 'wide', 'vehicles', 'traditional', 'technologies', 'electric', 'vehicle', 'unique', 'technology']\n",
            "['company', 'canoo', 'informed', 'businessgain', 'overview', 'decisions', 'gain', '360degree', 'view', 'profile', 'business']\n",
            "['company', 'canoo', 'q4', 'production', '2023', 'vans', 'million', 'sticks', 'executives', 'vehicle', 'aquila', 'target', 'trading', 'rd']\n",
            "['module', 'canoo', 'midamerica', 'oklahoma', 'pryor', 'forwardlooking', 'battery', 'facility', 'park', 'canoos', 'industrial', 'manufacturing', 'ev', 'statements', 'press', 'future']\n",
            "['canoo', 'oklahoma', 'events', 'forwardlooking', 'vehicles', 'canoos', 'electric', 'state', 'statements', 'vehicle', 'delivering', 'business', 'future']\n",
            "['automotive', 'wide', 'vehicles', 'relations', 'traditional', 'team', 'technologies', 'investor', 'electric', 'vehicle', 'unique', 'technology']\n",
            "['company', 'canoo', 'speak', 'need', 'todaymarkets', 'today', 'markets', 'wont', 'open', 'skin', 'mark', 'tom', 'profile']\n",
            "['2021', 'stewart', 'oklahoma', 'million', 'industrial', 'construction', 'plant', 'proposed', 'electric', 'head', 'pryor', 'issues', 'park', '2022', 'delayed', 'maip', 'canoo', 'canoos', '2023', 'vehicle']\n",
            "['2024', 'canoo', 'oklahoma', 'linkedin', 'vehicles', 'team', 'mobility', 'manufacturing', 'journey', 'okc', 'theres']\n",
            "['shipping', 'canoo', 'factory', 'oklahoma', 'evs', 'begins', 'partners', 'ldvs', 'vehicles', 'fleet', 'electric', 'state', 'vehicle', 'improve']\n",
            "['company', 'canoo', 'thats', 'wrong', 'federal', 'startup', 'companys', 'doubters', 'financial', 'canoos', 'vehicles', 'electric', 'ev', 'vehicle', 'proving']\n",
            "[]\n",
            "['nation', 'partner', 'canoo', 'energy', 'opportunities', 'oklahoma', 'vehicles', 'growth', 'clean', 'jobs', 'pawnee', 'tribal', 'technology', 'business']\n",
            "['company', 'canoo', 'know', 'production', 'vehicles', 'battery', 'skateboard', 'lifestyle', 'model', 'van', 'modules', 'vehicle', 'models', 'future', 'platform']\n",
            "['company', 'canoo', 'commerce', 'oklahoma', 'bring', 'department', 'facility', 'jobs', 'electric', 'state', 'manufacturing', 'forward', 'okc', '500', 'aims', 'city']\n",
            "['company', 'canoo', 'buys', 'pryor', 'oklahoma', 'production', 'vehicles', 'facility', 'prepares', 'million', 'electric', 'manufacturing', '3427', 'vehicle', 'okc', 'plant', 'city']\n",
            "['canoo', 'production', 'vehicles', 'electric', 'finishes']\n"
          ]
        }
      ]
    },
    {
      "cell_type": "code",
      "source": [
        "import csv\n",
        "\n",
        "# opening the CSV file\n",
        "with open('company.csv', mode ='r')as file:\n",
        "\n",
        "  # reading the CSV file\n",
        "  csvFile = csv.reader(file)\n",
        "\n",
        "  # displaying the contents of the CSV file\n",
        "  for lines in csvFile:\n",
        "        print(lines)"
      ],
      "metadata": {
        "colab": {
          "base_uri": "https://localhost:8080/"
        },
        "id": "3KRpLjKXFEnm",
        "outputId": "c51dbf45-1319-49bc-f33f-9343471ed816"
      },
      "execution_count": null,
      "outputs": [
        {
          "output_type": "stream",
          "name": "stdout",
          "text": [
            "['company', 'company', '', 'company', 'company', 'company', 'module', 'canoo', 'automotive', 'company', '2021', '2024', 'shipping', 'company', '', 'nation', 'company', 'company', 'company', 'canoo']\n",
            "['2021', 'lifecycle', '', 'canoo', 'canoo', 'canoo', 'canoo', 'oklahoma', 'wide', 'canoo', 'stewart', 'canoo', 'canoo', 'canoo', '', 'partner', 'canoo', 'canoo', 'canoo', 'production']\n",
            "['canoo', 'texas', '', 'information', 'informed', 'q4', 'midamerica', 'events', 'vehicles', 'speak', 'oklahoma', 'oklahoma', 'factory', 'thats', '', 'canoo', 'know', 'commerce', 'buys', 'vehicles']\n",
            "['wikipedia', 'vehicledistinguished', '', 'automotive', 'businessgain', 'production', 'oklahoma', 'forwardlooking', 'relations', 'need', 'million', 'linkedin', 'oklahoma', 'wrong', '', 'energy', 'production', 'oklahoma', 'pryor', 'electric']\n",
            "['production', 'automotive', '', 'wide', 'overview', '2023', 'pryor', 'vehicles', 'traditional', 'todaymarkets', 'industrial', 'vehicles', 'evs', 'federal', '', 'opportunities', 'vehicles', 'bring', 'oklahoma', 'finishes']\n",
            "['vehicles', 'wide', '', 'vehicles', 'decisions', 'vans', 'forwardlooking', 'canoos', 'team', 'today', 'construction', 'team', 'begins', 'startup', '', 'oklahoma', 'battery', 'department', 'production', '']\n",
            "['announced', 'leading', '', 'traditional', 'gain', 'million', 'battery', 'electric', 'technologies', 'markets', 'plant', 'mobility', 'partners', 'companys', '', 'vehicles', 'skateboard', 'facility', 'vehicles', '']\n",
            "['2022', 'uscanoos', '', 'technologies', '360degree', 'sticks', 'facility', 'state', 'investor', 'wont', 'proposed', 'manufacturing', 'ldvs', 'doubters', '', 'growth', 'lifestyle', 'jobs', 'facility', '']\n",
            "['electric', 'technologies', '', 'electric', 'view', 'executives', 'park', 'statements', 'electric', 'open', 'electric', 'journey', 'vehicles', 'financial', '', 'clean', 'model', 'electric', 'prepares', '']\n",
            "['vehicle', 'vehicle', '', 'vehicle', 'profile', 'vehicle', 'canoos', 'vehicle', 'vehicle', 'skin', 'head', 'okc', 'fleet', 'canoos', '', 'jobs', 'van', 'state', 'million', '']\n",
            "['plant', 'unique', '', 'unique', 'business', 'aquila', 'industrial', 'delivering', 'unique', 'mark', 'pryor', 'theres', 'electric', 'vehicles', '', 'pawnee', 'modules', 'manufacturing', 'electric', '']\n",
            "['', 'technology', '', 'technology', '', 'target', 'manufacturing', 'business', 'technology', 'tom', 'issues', '', 'state', 'electric', '', 'tribal', 'vehicle', 'forward', 'manufacturing', '']\n",
            "['', '', '', '', '', 'trading', 'ev', 'future', '', 'profile', 'park', '', 'vehicle', 'ev', '', 'technology', 'models', 'okc', '3427', '']\n",
            "['', '', '', '', '', 'rd', 'statements', '', '', '', '2022', '', 'improve', 'vehicle', '', 'business', 'future', '500', 'vehicle', '']\n",
            "['', '', '', '', '', '', 'press', '', '', '', 'delayed', '', '', 'proving', '', '', 'platform', 'aims', 'okc', '']\n",
            "['', '', '', '', '', '', 'future', '', '', '', 'maip', '', '', '', '', '', '', 'city', 'plant', '']\n",
            "['', '', '', '', '', '', '', '', '', '', 'canoo', '', '', '', '', '', '', '', 'city', '']\n",
            "['', '', '', '', '', '', '', '', '', '', 'canoos', '', '', '', '', '', '', '', '', '']\n",
            "['', '', '', '', '', '', '', '', '', '', '2023', '', '', '', '', '', '', '', '', '']\n",
            "['', '', '', '', '', '', '', '', '', '', 'vehicle', '', '', '', '', '', '', '', '', '']\n"
          ]
        }
      ]
    },
    {
      "cell_type": "markdown",
      "source": [
        "**CONCLUSION- CANOOS IS ELECTRIC VEHICLE COMPANY**"
      ],
      "metadata": {
        "id": "T5puhzbE6Aj_"
      }
    },
    {
      "cell_type": "code",
      "source": [
        "import pandas as pd\n",
        "x=pd.read_csv('company.csv')\n",
        "x.to_csv('company.csv')"
      ],
      "metadata": {
        "id": "03t2fHY3CldL"
      },
      "execution_count": null,
      "outputs": []
    },
    {
      "cell_type": "code",
      "source": [
        "\n",
        "li=[]\n",
        "try:\n",
        "\tfrom googlesearch import search\n",
        "except ImportError:\n",
        "\tprint(\"No module named 'google' found\")\n",
        "\n",
        "# to search\n",
        "query = \"financial statement and growth of Canoos EV company\"\n",
        "\n",
        "for j in search(query, tld=\"co.in\", num=20, stop=20, pause=2):\n",
        "\tli.append(j)\n",
        "\n",
        "for i in li:\n",
        "  print (i)"
      ],
      "metadata": {
        "colab": {
          "base_uri": "https://localhost:8080/"
        },
        "id": "QyA3DOacw37z",
        "outputId": "704d0936-e981-495c-8a78-c2c9f249d6a6"
      },
      "execution_count": null,
      "outputs": [
        {
          "output_type": "stream",
          "name": "stdout",
          "text": [
            "https://www.wsj.com/market-data/quotes/GOEV/financials\n",
            "https://investors.canoo.com/\n",
            "https://investors.canoo.com/sec-filings/annual-reports\n",
            "https://investors.canoo.com/financial-information/income-statement\n",
            "https://investors.canoo.com/financial-information/balance-sheet\n",
            "https://investors.canoo.com/financial-information/financial-results\n",
            "https://www.macroaxis.com/financials/GOEV/Canoo-Inc\n",
            "https://finance.yahoo.com/quote/GOEV/key-statistics/\n",
            "https://www.sec.gov/Archives/edgar/data/1750153/000155837021003617/tmb-20210329xex99d1.htm\n",
            "https://www.press.canoo.com/press-release/canoo-inc-announces-third-quarter-2023-results\n",
            "https://www.gurufocus.com/news/2124109/canoo-inc-goev-reports-third-quarter-2023-results-mixed-financial-performance-amidst-expansion-efforts\n",
            "https://finance.yahoo.com/news/canoo-inc-goev-reports-third-013523519.html\n",
            "https://fullratio.com/stocks/nasdaq-goev/canoo\n",
            "https://stockanalysis.com/stocks/goev/statistics/\n",
            "https://investors.canoo.com/news-presentations/press-releases/detail/122/canoo-created-over-100-jobs-in-state-of-oklahoma-to-scale\n",
            "https://www.tradingview.com/symbols/NASDAQ-GOEV/financials-overview/\n",
            "https://m.investing.com/equities/hennessy-capital-acquisition-corp-financial-summary\n",
            "https://www.marketscreener.com/quote/stock/CANOO-INC-57291647/news/Canoo-to-Announce-Third-Quarter-2023-Financial-Results-45229345/\n",
            "https://stocklight.com/stocks/us/nasdaq-goev/canoo/annual-reports/nasdaq-goev-2023-10K-23781375.pdf\n",
            "https://www.stocktitan.net/news/GOEV/canoo-to-announce-third-quarter-2023-financial-vd1vdmmhlr39.html\n"
          ]
        }
      ]
    },
    {
      "cell_type": "code",
      "source": [
        "li2=[]\n",
        "for i in li:\n",
        "  url=i\n",
        "  article=Article(url)\n",
        "\n",
        "  try:\n",
        "    article.download()\n",
        "    article.parse()\n",
        "    article.text\n",
        "    article.nlp()\n",
        "\n",
        "  except:\n",
        "    pass\n",
        "  print(article.keywords)\n",
        "  temp=article.keywords\n",
        "  li2.append(temp)\n",
        "\n",
        "filename = \"canoo_finance.csv\"\n",
        "with open(filename, 'w') as csvfile:\n",
        "    # creating a csv writer object\n",
        "  csvwriter = csv.writer(csvfile)\n",
        "  csvwriter.writerows(li2)\n",
        "  csvwriter.writerows(list(itertools.zip_longest(*li2, fillvalue='')))\n",
        "\n",
        "\n",
        "\n"
      ],
      "metadata": {
        "colab": {
          "base_uri": "https://localhost:8080/"
        },
        "id": "fYIHWK1jdEQd",
        "outputId": "2a1e234e-c733-4119-f083-3dc9d928cf55"
      },
      "execution_count": null,
      "outputs": [
        {
          "output_type": "stream",
          "name": "stdout",
          "text": [
            "[]\n",
            "['automotive', 'wide', 'vehicles', 'relations', 'traditional', 'team', 'technologies', 'investor', 'electric', 'vehicle', 'unique', 'technology']\n",
            "['annual', 'reports']\n",
            "['type', 'significant', 'costs', '1publisher', 'knowledge', 'income', 'accounting', 'process', 'fasburi', 'statement', 'product', 'standards']\n",
            "['type', 's99paragraph', 'resources', 'sheet', 'terms', 'sx', 'fasburi', 'accounting', 'balance', 'occur', '1subparagraph', 'standards']\n",
            "['results', 'financial']\n",
            "['company', 'price', 'investors', 'canoo', 'today', 'canoos', 'financial', 'financials', 'determine', 'companys', 'value', 'market', 'future']\n",
            "['statistics', 'historical', 'canoo', 'plus', 'access', 'financial', 'valuation', '40', 'data', 'goev', 'essentiallearn', 'finance', 'measures']\n",
            "['canoo', 'results', 'measure', 'loss', 'ebitda', 'net', 'performance', 'adjusted', 'measures', 'gaap']\n",
            "['announces', '30', 'compared', 'results', 'canoo', 'loss', 'ended', 'months', '2023', 'million', 'quarter', 'net', 'cash', 'adjusted']\n",
            "['results', 'canoo', 'loss', 'reports', 'finan', 'companys', 'financial', '2023', 'million', 'quarter', 'cash', 'goev', 'mixed']\n",
            "['results', 'canoo', 'loss', 'reports', 'companys', 'financial', '2023', 'nasdaqgoev', 'million', 'quarter', 'amidst', 'performance', 'cash', 'goev', 'adjusted', 'mixed']\n",
            "['price', 'canoo', 'analysis', 'value', 'revenue', 'return', 'net', 'financials', 'stock', 'share', 'margin', 'ratio']\n",
            "['statistics', 'short', 'canoo', 'shares', 'price', 'metrics', 'capital', 'valuation', 'income', 'million', 'flow', 'net', 'cash', 'goev', 'share']\n",
            "['company', 'canoo', 'oklahoma', 'forwardlooking', 'canoos', 'jobs', 'created', '100', 'scale', 'state', 'manufacturing', 'electric', 'statements', 'vehicle', 'business', 'future']\n",
            "['tradingview', 'paid', 'canoo', 'information', 'moment', 'future', 'financial', 'previously', 'nasdaqgoev', 'pay', 'statements', 'goev', 'does', 'dividendsthe', 'going']\n",
            "['compared', 'canoo', 'loss', 'metrics', 'financial', 'million', 'investingcom', 'usd', 'operations', 'continuing', 'share', 'ago']\n",
            "['company', 'texas', 'results', 'canoo', 'webcast', 'financial', '2023', 'announce', 'quarter', 'replay', 'visit', 'shortly', 'vehicle']\n",
            "[]\n",
            "['passwordthere', 'results', 'canoo', 'forgot', 'sent', 'financial', 'user', '2023', 'announce', 'registered', 'quarter', 'email', 'passwordplease', 'changing', 'instructions', 'enter']\n"
          ]
        }
      ]
    },
    {
      "cell_type": "code",
      "source": [
        "import csv\n",
        "\n",
        "# opening the CSV file\n",
        "with open('canoo_finance.csv', mode ='r')as file:\n",
        "\n",
        "  # reading the CSV file\n",
        "  csvFile = csv.reader(file)\n",
        "\n",
        "  # displaying the contents of the CSV file\n",
        "  for lines in csvFile:\n",
        "    print(lines)\n",
        "\n"
      ],
      "metadata": {
        "colab": {
          "base_uri": "https://localhost:8080/"
        },
        "id": "3DtyxP1SHfdy",
        "outputId": "bcb40db5-2238-48cb-cb79-85eddb25d455"
      },
      "execution_count": null,
      "outputs": [
        {
          "output_type": "stream",
          "name": "stdout",
          "text": [
            "[]\n",
            "['automotive', 'wide', 'vehicles', 'relations', 'traditional', 'team', 'technologies', 'investor', 'electric', 'vehicle', 'unique', 'technology']\n",
            "['annual', 'reports']\n",
            "['type', 'significant', 'costs', '1publisher', 'knowledge', 'income', 'accounting', 'process', 'fasburi', 'statement', 'product', 'standards']\n",
            "['type', 's99paragraph', 'resources', 'sheet', 'terms', 'sx', 'fasburi', 'accounting', 'balance', 'occur', '1subparagraph', 'standards']\n",
            "['results', 'financial']\n",
            "['company', 'price', 'investors', 'canoo', 'today', 'canoos', 'financial', 'financials', 'determine', 'companys', 'value', 'market', 'future']\n",
            "['statistics', 'historical', 'canoo', 'plus', 'access', 'financial', 'valuation', '40', 'data', 'goev', 'essentiallearn', 'finance', 'measures']\n",
            "['canoo', 'results', 'measure', 'loss', 'ebitda', 'net', 'performance', 'adjusted', 'measures', 'gaap']\n",
            "['announces', '30', 'compared', 'results', 'canoo', 'loss', 'ended', 'months', '2023', 'million', 'quarter', 'net', 'cash', 'adjusted']\n",
            "['results', 'canoo', 'loss', 'reports', 'finan', 'companys', 'financial', '2023', 'million', 'quarter', 'cash', 'goev', 'mixed']\n",
            "['results', 'canoo', 'loss', 'reports', 'companys', 'financial', '2023', 'nasdaqgoev', 'million', 'quarter', 'amidst', 'performance', 'cash', 'goev', 'adjusted', 'mixed']\n",
            "['price', 'canoo', 'analysis', 'value', 'revenue', 'return', 'net', 'financials', 'stock', 'share', 'margin', 'ratio']\n",
            "['statistics', 'short', 'canoo', 'shares', 'price', 'metrics', 'capital', 'valuation', 'income', 'million', 'flow', 'net', 'cash', 'goev', 'share']\n",
            "['company', 'canoo', 'oklahoma', 'forwardlooking', 'canoos', 'jobs', 'created', '100', 'scale', 'state', 'manufacturing', 'electric', 'statements', 'vehicle', 'business', 'future']\n",
            "['tradingview', 'paid', 'canoo', 'information', 'moment', 'future', 'financial', 'previously', 'nasdaqgoev', 'pay', 'statements', 'goev', 'does', 'dividendsthe', 'going']\n",
            "['compared', 'canoo', 'loss', 'metrics', 'financial', 'million', 'investingcom', 'usd', 'operations', 'continuing', 'share', 'ago']\n",
            "['company', 'texas', 'results', 'canoo', 'webcast', 'financial', '2023', 'announce', 'quarter', 'replay', 'visit', 'shortly', 'vehicle']\n",
            "[]\n",
            "['passwordthere', 'results', 'canoo', 'forgot', 'sent', 'financial', 'user', '2023', 'announce', 'registered', 'quarter', 'email', 'passwordplease', 'changing', 'instructions', 'enter']\n",
            "['', 'automotive', 'annual', 'type', 'type', 'results', 'company', 'statistics', 'canoo', 'announces', 'results', 'results', 'price', 'statistics', 'company', 'tradingview', 'compared', 'company', '', 'passwordthere']\n",
            "['', 'wide', 'reports', 'significant', 's99paragraph', 'financial', 'price', 'historical', 'results', '30', 'canoo', 'canoo', 'canoo', 'short', 'canoo', 'paid', 'canoo', 'texas', '', 'results']\n",
            "['', 'vehicles', '', 'costs', 'resources', '', 'investors', 'canoo', 'measure', 'compared', 'loss', 'loss', 'analysis', 'canoo', 'oklahoma', 'canoo', 'loss', 'results', '', 'canoo']\n",
            "['', 'relations', '', '1publisher', 'sheet', '', 'canoo', 'plus', 'loss', 'results', 'reports', 'reports', 'value', 'shares', 'forwardlooking', 'information', 'metrics', 'canoo', '', 'forgot']\n",
            "['', 'traditional', '', 'knowledge', 'terms', '', 'today', 'access', 'ebitda', 'canoo', 'finan', 'companys', 'revenue', 'price', 'canoos', 'moment', 'financial', 'webcast', '', 'sent']\n",
            "['', 'team', '', 'income', 'sx', '', 'canoos', 'financial', 'net', 'loss', 'companys', 'financial', 'return', 'metrics', 'jobs', 'future', 'million', 'financial', '', 'financial']\n",
            "['', 'technologies', '', 'accounting', 'fasburi', '', 'financial', 'valuation', 'performance', 'ended', 'financial', '2023', 'net', 'capital', 'created', 'financial', 'investingcom', '2023', '', 'user']\n",
            "['', 'investor', '', 'process', 'accounting', '', 'financials', '40', 'adjusted', 'months', '2023', 'nasdaqgoev', 'financials', 'valuation', '100', 'previously', 'usd', 'announce', '', '2023']\n",
            "['', 'electric', '', 'fasburi', 'balance', '', 'determine', 'data', 'measures', '2023', 'million', 'million', 'stock', 'income', 'scale', 'nasdaqgoev', 'operations', 'quarter', '', 'announce']\n",
            "['', 'vehicle', '', 'statement', 'occur', '', 'companys', 'goev', 'gaap', 'million', 'quarter', 'quarter', 'share', 'million', 'state', 'pay', 'continuing', 'replay', '', 'registered']\n",
            "['', 'unique', '', 'product', '1subparagraph', '', 'value', 'essentiallearn', '', 'quarter', 'cash', 'amidst', 'margin', 'flow', 'manufacturing', 'statements', 'share', 'visit', '', 'quarter']\n",
            "['', 'technology', '', 'standards', 'standards', '', 'market', 'finance', '', 'net', 'goev', 'performance', 'ratio', 'net', 'electric', 'goev', 'ago', 'shortly', '', 'email']\n",
            "['', '', '', '', '', '', 'future', 'measures', '', 'cash', 'mixed', 'cash', '', 'cash', 'statements', 'does', '', 'vehicle', '', 'passwordplease']\n",
            "['', '', '', '', '', '', '', '', '', 'adjusted', '', 'goev', '', 'goev', 'vehicle', 'dividendsthe', '', '', '', 'changing']\n",
            "['', '', '', '', '', '', '', '', '', '', '', 'adjusted', '', 'share', 'business', 'going', '', '', '', 'instructions']\n",
            "['', '', '', '', '', '', '', '', '', '', '', 'mixed', '', '', 'future', '', '', '', '', 'enter']\n"
          ]
        }
      ]
    },
    {
      "cell_type": "code",
      "source": [
        "x=pd.read_csv('canoo_finance.csv')\n",
        "x.to_csv('canoo_finance.csv')"
      ],
      "metadata": {
        "colab": {
          "base_uri": "https://localhost:8080/",
          "height": 217
        },
        "id": "IRoPwqltvIv-",
        "outputId": "29aa4022-fcb4-48e9-dddf-de740cd417f4"
      },
      "execution_count": null,
      "outputs": [
        {
          "output_type": "error",
          "ename": "ParserError",
          "evalue": "Error tokenizing data. C error: Expected 12 fields in line 7, saw 13\n",
          "traceback": [
            "\u001b[0;31m---------------------------------------------------------------------------\u001b[0m",
            "\u001b[0;31mParserError\u001b[0m                               Traceback (most recent call last)",
            "\u001b[0;32m<ipython-input-20-bbca3fb65148>\u001b[0m in \u001b[0;36m<cell line: 1>\u001b[0;34m()\u001b[0m\n\u001b[0;32m----> 1\u001b[0;31m \u001b[0mx\u001b[0m\u001b[0;34m=\u001b[0m\u001b[0mpd\u001b[0m\u001b[0;34m.\u001b[0m\u001b[0mread_csv\u001b[0m\u001b[0;34m(\u001b[0m\u001b[0;34m'canoo_finance.csv'\u001b[0m\u001b[0;34m)\u001b[0m\u001b[0;34m\u001b[0m\u001b[0;34m\u001b[0m\u001b[0m\n\u001b[0m\u001b[1;32m      2\u001b[0m \u001b[0mx\u001b[0m\u001b[0;34m.\u001b[0m\u001b[0mto_csv\u001b[0m\u001b[0;34m(\u001b[0m\u001b[0;34m'canoo_finance.csv'\u001b[0m\u001b[0;34m)\u001b[0m\u001b[0;34m\u001b[0m\u001b[0;34m\u001b[0m\u001b[0m\n",
            "\u001b[0;32m/usr/local/lib/python3.10/dist-packages/pandas/util/_decorators.py\u001b[0m in \u001b[0;36mwrapper\u001b[0;34m(*args, **kwargs)\u001b[0m\n\u001b[1;32m    209\u001b[0m                 \u001b[0;32melse\u001b[0m\u001b[0;34m:\u001b[0m\u001b[0;34m\u001b[0m\u001b[0;34m\u001b[0m\u001b[0m\n\u001b[1;32m    210\u001b[0m                     \u001b[0mkwargs\u001b[0m\u001b[0;34m[\u001b[0m\u001b[0mnew_arg_name\u001b[0m\u001b[0;34m]\u001b[0m \u001b[0;34m=\u001b[0m \u001b[0mnew_arg_value\u001b[0m\u001b[0;34m\u001b[0m\u001b[0;34m\u001b[0m\u001b[0m\n\u001b[0;32m--> 211\u001b[0;31m             \u001b[0;32mreturn\u001b[0m \u001b[0mfunc\u001b[0m\u001b[0;34m(\u001b[0m\u001b[0;34m*\u001b[0m\u001b[0margs\u001b[0m\u001b[0;34m,\u001b[0m \u001b[0;34m**\u001b[0m\u001b[0mkwargs\u001b[0m\u001b[0;34m)\u001b[0m\u001b[0;34m\u001b[0m\u001b[0;34m\u001b[0m\u001b[0m\n\u001b[0m\u001b[1;32m    212\u001b[0m \u001b[0;34m\u001b[0m\u001b[0m\n\u001b[1;32m    213\u001b[0m         \u001b[0;32mreturn\u001b[0m \u001b[0mcast\u001b[0m\u001b[0;34m(\u001b[0m\u001b[0mF\u001b[0m\u001b[0;34m,\u001b[0m \u001b[0mwrapper\u001b[0m\u001b[0;34m)\u001b[0m\u001b[0;34m\u001b[0m\u001b[0;34m\u001b[0m\u001b[0m\n",
            "\u001b[0;32m/usr/local/lib/python3.10/dist-packages/pandas/util/_decorators.py\u001b[0m in \u001b[0;36mwrapper\u001b[0;34m(*args, **kwargs)\u001b[0m\n\u001b[1;32m    329\u001b[0m                     \u001b[0mstacklevel\u001b[0m\u001b[0;34m=\u001b[0m\u001b[0mfind_stack_level\u001b[0m\u001b[0;34m(\u001b[0m\u001b[0;34m)\u001b[0m\u001b[0;34m,\u001b[0m\u001b[0;34m\u001b[0m\u001b[0;34m\u001b[0m\u001b[0m\n\u001b[1;32m    330\u001b[0m                 )\n\u001b[0;32m--> 331\u001b[0;31m             \u001b[0;32mreturn\u001b[0m \u001b[0mfunc\u001b[0m\u001b[0;34m(\u001b[0m\u001b[0;34m*\u001b[0m\u001b[0margs\u001b[0m\u001b[0;34m,\u001b[0m \u001b[0;34m**\u001b[0m\u001b[0mkwargs\u001b[0m\u001b[0;34m)\u001b[0m\u001b[0;34m\u001b[0m\u001b[0;34m\u001b[0m\u001b[0m\n\u001b[0m\u001b[1;32m    332\u001b[0m \u001b[0;34m\u001b[0m\u001b[0m\n\u001b[1;32m    333\u001b[0m         \u001b[0;31m# error: \"Callable[[VarArg(Any), KwArg(Any)], Any]\" has no\u001b[0m\u001b[0;34m\u001b[0m\u001b[0;34m\u001b[0m\u001b[0m\n",
            "\u001b[0;32m/usr/local/lib/python3.10/dist-packages/pandas/io/parsers/readers.py\u001b[0m in \u001b[0;36mread_csv\u001b[0;34m(filepath_or_buffer, sep, delimiter, header, names, index_col, usecols, squeeze, prefix, mangle_dupe_cols, dtype, engine, converters, true_values, false_values, skipinitialspace, skiprows, skipfooter, nrows, na_values, keep_default_na, na_filter, verbose, skip_blank_lines, parse_dates, infer_datetime_format, keep_date_col, date_parser, dayfirst, cache_dates, iterator, chunksize, compression, thousands, decimal, lineterminator, quotechar, quoting, doublequote, escapechar, comment, encoding, encoding_errors, dialect, error_bad_lines, warn_bad_lines, on_bad_lines, delim_whitespace, low_memory, memory_map, float_precision, storage_options)\u001b[0m\n\u001b[1;32m    948\u001b[0m     \u001b[0mkwds\u001b[0m\u001b[0;34m.\u001b[0m\u001b[0mupdate\u001b[0m\u001b[0;34m(\u001b[0m\u001b[0mkwds_defaults\u001b[0m\u001b[0;34m)\u001b[0m\u001b[0;34m\u001b[0m\u001b[0;34m\u001b[0m\u001b[0m\n\u001b[1;32m    949\u001b[0m \u001b[0;34m\u001b[0m\u001b[0m\n\u001b[0;32m--> 950\u001b[0;31m     \u001b[0;32mreturn\u001b[0m \u001b[0m_read\u001b[0m\u001b[0;34m(\u001b[0m\u001b[0mfilepath_or_buffer\u001b[0m\u001b[0;34m,\u001b[0m \u001b[0mkwds\u001b[0m\u001b[0;34m)\u001b[0m\u001b[0;34m\u001b[0m\u001b[0;34m\u001b[0m\u001b[0m\n\u001b[0m\u001b[1;32m    951\u001b[0m \u001b[0;34m\u001b[0m\u001b[0m\n\u001b[1;32m    952\u001b[0m \u001b[0;34m\u001b[0m\u001b[0m\n",
            "\u001b[0;32m/usr/local/lib/python3.10/dist-packages/pandas/io/parsers/readers.py\u001b[0m in \u001b[0;36m_read\u001b[0;34m(filepath_or_buffer, kwds)\u001b[0m\n\u001b[1;32m    609\u001b[0m \u001b[0;34m\u001b[0m\u001b[0m\n\u001b[1;32m    610\u001b[0m     \u001b[0;32mwith\u001b[0m \u001b[0mparser\u001b[0m\u001b[0;34m:\u001b[0m\u001b[0;34m\u001b[0m\u001b[0;34m\u001b[0m\u001b[0m\n\u001b[0;32m--> 611\u001b[0;31m         \u001b[0;32mreturn\u001b[0m \u001b[0mparser\u001b[0m\u001b[0;34m.\u001b[0m\u001b[0mread\u001b[0m\u001b[0;34m(\u001b[0m\u001b[0mnrows\u001b[0m\u001b[0;34m)\u001b[0m\u001b[0;34m\u001b[0m\u001b[0;34m\u001b[0m\u001b[0m\n\u001b[0m\u001b[1;32m    612\u001b[0m \u001b[0;34m\u001b[0m\u001b[0m\n\u001b[1;32m    613\u001b[0m \u001b[0;34m\u001b[0m\u001b[0m\n",
            "\u001b[0;32m/usr/local/lib/python3.10/dist-packages/pandas/io/parsers/readers.py\u001b[0m in \u001b[0;36mread\u001b[0;34m(self, nrows)\u001b[0m\n\u001b[1;32m   1776\u001b[0m                     \u001b[0mcolumns\u001b[0m\u001b[0;34m,\u001b[0m\u001b[0;34m\u001b[0m\u001b[0;34m\u001b[0m\u001b[0m\n\u001b[1;32m   1777\u001b[0m                     \u001b[0mcol_dict\u001b[0m\u001b[0;34m,\u001b[0m\u001b[0;34m\u001b[0m\u001b[0;34m\u001b[0m\u001b[0m\n\u001b[0;32m-> 1778\u001b[0;31m                 \u001b[0;34m)\u001b[0m \u001b[0;34m=\u001b[0m \u001b[0mself\u001b[0m\u001b[0;34m.\u001b[0m\u001b[0m_engine\u001b[0m\u001b[0;34m.\u001b[0m\u001b[0mread\u001b[0m\u001b[0;34m(\u001b[0m  \u001b[0;31m# type: ignore[attr-defined]\u001b[0m\u001b[0;34m\u001b[0m\u001b[0;34m\u001b[0m\u001b[0m\n\u001b[0m\u001b[1;32m   1779\u001b[0m                     \u001b[0mnrows\u001b[0m\u001b[0;34m\u001b[0m\u001b[0;34m\u001b[0m\u001b[0m\n\u001b[1;32m   1780\u001b[0m                 )\n",
            "\u001b[0;32m/usr/local/lib/python3.10/dist-packages/pandas/io/parsers/c_parser_wrapper.py\u001b[0m in \u001b[0;36mread\u001b[0;34m(self, nrows)\u001b[0m\n\u001b[1;32m    228\u001b[0m         \u001b[0;32mtry\u001b[0m\u001b[0;34m:\u001b[0m\u001b[0;34m\u001b[0m\u001b[0;34m\u001b[0m\u001b[0m\n\u001b[1;32m    229\u001b[0m             \u001b[0;32mif\u001b[0m \u001b[0mself\u001b[0m\u001b[0;34m.\u001b[0m\u001b[0mlow_memory\u001b[0m\u001b[0;34m:\u001b[0m\u001b[0;34m\u001b[0m\u001b[0;34m\u001b[0m\u001b[0m\n\u001b[0;32m--> 230\u001b[0;31m                 \u001b[0mchunks\u001b[0m \u001b[0;34m=\u001b[0m \u001b[0mself\u001b[0m\u001b[0;34m.\u001b[0m\u001b[0m_reader\u001b[0m\u001b[0;34m.\u001b[0m\u001b[0mread_low_memory\u001b[0m\u001b[0;34m(\u001b[0m\u001b[0mnrows\u001b[0m\u001b[0;34m)\u001b[0m\u001b[0;34m\u001b[0m\u001b[0;34m\u001b[0m\u001b[0m\n\u001b[0m\u001b[1;32m    231\u001b[0m                 \u001b[0;31m# destructive to chunks\u001b[0m\u001b[0;34m\u001b[0m\u001b[0;34m\u001b[0m\u001b[0m\n\u001b[1;32m    232\u001b[0m                 \u001b[0mdata\u001b[0m \u001b[0;34m=\u001b[0m \u001b[0m_concatenate_chunks\u001b[0m\u001b[0;34m(\u001b[0m\u001b[0mchunks\u001b[0m\u001b[0;34m)\u001b[0m\u001b[0;34m\u001b[0m\u001b[0;34m\u001b[0m\u001b[0m\n",
            "\u001b[0;32m/usr/local/lib/python3.10/dist-packages/pandas/_libs/parsers.pyx\u001b[0m in \u001b[0;36mpandas._libs.parsers.TextReader.read_low_memory\u001b[0;34m()\u001b[0m\n",
            "\u001b[0;32m/usr/local/lib/python3.10/dist-packages/pandas/_libs/parsers.pyx\u001b[0m in \u001b[0;36mpandas._libs.parsers.TextReader._read_rows\u001b[0;34m()\u001b[0m\n",
            "\u001b[0;32m/usr/local/lib/python3.10/dist-packages/pandas/_libs/parsers.pyx\u001b[0m in \u001b[0;36mpandas._libs.parsers.TextReader._tokenize_rows\u001b[0;34m()\u001b[0m\n",
            "\u001b[0;32m/usr/local/lib/python3.10/dist-packages/pandas/_libs/parsers.pyx\u001b[0m in \u001b[0;36mpandas._libs.parsers.raise_parser_error\u001b[0;34m()\u001b[0m\n",
            "\u001b[0;31mParserError\u001b[0m: Error tokenizing data. C error: Expected 12 fields in line 7, saw 13\n"
          ]
        }
      ]
    },
    {
      "cell_type": "code",
      "source": [
        "url=li[9]\n",
        "article=Article(url)\n",
        "article.download()\n",
        "article.parse()\n",
        "article.text\n",
        "article.nlp()\n",
        "print(article.summary)\n"
      ],
      "metadata": {
        "colab": {
          "base_uri": "https://localhost:8080/"
        },
        "id": "BqemrDMdvvq-",
        "outputId": "5175c876-2b13-4f85-e332-aba8c65bc1e7"
      },
      "execution_count": null,
      "outputs": [
        {
          "output_type": "stream",
          "name": "stdout",
          "text": [
            "Justin, TX – (November 14, 2023) – Canoo Technologies (NASDAQ: GOEV), a leading high-tech advanced mobility company, today announced its financial results for the third quarter of 2023.\n",
            "• GAAP Net Loss per share of $(0.18) and $(0.53) for the three and nine months ended September 30, 2023, compared to $(0.43) and $(1.62) for the three and nine months ended September 30, 2022.\n",
            "• Adjusted EPS per share of $(0.07) and $(0.36) for the three and nine months ended September 30, 2023, compared to $(0.31) and $(1.43) for the three and nine months ended September 30, 2022.\n",
            "• Net cash used in operating activities totaled $191.4 million for the nine months ended September 30, 2023, compared to $329.9 million for the nine months ended September 30, 2022.\n",
            "• Net cash used in investing activities was $45.4 million during the nine months ended September 30, 2023, compared to $58.4 million net cash used in investing activities during the nine months ended September 30, 2022.\n"
          ]
        }
      ]
    },
    {
      "cell_type": "markdown",
      "source": [
        "CANOO'S FINANCIAL STATEMENT -\n",
        "\n",
        "Justin, TX – (November 14, 2023) – Canoo Technologies (NASDAQ: GOEV), a leading high-tech advanced mobility company, today announced its financial results for the third quarter of 2023.\n",
        "• GAAP Net Loss per share of $(0.18) and $(0.53) for the three and nine months ended September 30, 2023, compared to $(0.43) and $(1.62) for the three and nine months ended September 30, 2022.\n",
        "• Adjusted EPS per share of $(0.07) and $(0.36) for the three and nine months ended September 30, 2023, compared to $(0.31) and $(1.43) for the three and nine months ended September 30, 2022.\n",
        "• Net cash used in operating activities totaled $191.4 million for the nine months ended September 30, 2023, compared to $329.9 million for the nine months ended September 30, 2022.\n",
        "• Net cash used in investing activities was $45.4 million during the nine months ended September 30, 2023, compared to $58.4 million net cash used in investing activities during the nine months ended September 30, 2022."
      ],
      "metadata": {
        "id": "AGFffa7wlopu"
      }
    },
    {
      "cell_type": "code",
      "source": [
        "li=[]\n",
        "try:\n",
        "\tfrom googlesearch import search\n",
        "except ImportError:\n",
        "\tprint(\"No module named 'google' found\")\n",
        "\n",
        "# to search\n",
        "query = \"key players in EV\"\n",
        "\n",
        "for j in search(query, tld=\"co.in\", num=20, stop=20, pause=2):\n",
        "\tli.append(j)\n",
        "\n",
        "for i in li:\n",
        "  print (i)"
      ],
      "metadata": {
        "colab": {
          "base_uri": "https://localhost:8080/"
        },
        "id": "2M_sU9XCwuOS",
        "outputId": "f3b5a627-feef-4312-f25e-db5bfa96f6ff"
      },
      "execution_count": null,
      "outputs": [
        {
          "output_type": "stream",
          "name": "stdout",
          "text": [
            "https://ts2.com.pl/en/who-are-the-key-players-in-ev/\n",
            "https://www.marketsandmarkets.com/Market-Reports/electric-vehicle-market-209371461.html\n",
            "https://www.mordorintelligence.com/industry-reports/electric-vehicle-market\n",
            "https://capital.com/top-20-global-electric-vehicle-companies-ranking-tesla-ev-top-dog\n",
            "https://abnresource.com/22/abn-news/key-players-electric-vehicle-revolution/\n",
            "https://www.fool.com/research/largest-ev-companies/\n",
            "https://www.fortunebusinessinsights.com/industry-reports/electric-vehicle-market-101678\n",
            "https://companiesmarketcap.com/electric-vehicles/largest-ev-companies-by-market-cap/\n",
            "https://genuineimpact.substack.com/p/mapping-out-key-players-in-evs\n",
            "https://energydigital.com/top10/top-10-electric-vehicle-companies\n",
            "https://www.linkedin.com/pulse/ev-phev-market-insights-players-forecast-2030-reportprime\n",
            "https://www.imarcgroup.com/electric-vehicles-manufacturers-companies\n",
            "https://finance.yahoo.com/news/global-ev-market-share-company-124904822.html\n",
            "https://www.globaldata.com/store/report/ev-market-analysis/\n",
            "https://blogs.idc.com/2023/09/01/electric-vehicle-market-dynamics-and-competitive-strategies/\n",
            "https://evmagazine.com/top10/top-10-pure-play-ev-companies\n",
            "https://ttconsultants.com/what-are-the-top-10-electric-vehicles-companies-up-to/\n",
            "https://www.emergenresearch.com/blog/top-10-electric-vehicles-companies-focused-on-transforming-the-automotive-industry\n",
            "https://www.defianceetfs.com/the-top-five-electric-vehicle-manufacturers-by-market-capitalization-who-are-they/\n",
            "https://www.alliedmarketresearch.com/electric-vehicle-market\n"
          ]
        }
      ]
    },
    {
      "cell_type": "code",
      "source": [
        "for i in li:\n",
        "  url=i\n",
        "  article=Article(url)\n",
        "\n",
        "  try:\n",
        "    article.download()\n",
        "    article.parse()\n",
        "    article.text\n",
        "    article.nlp()\n",
        "\n",
        "  except:\n",
        "    pass\n",
        "  print(article.keywords)"
      ],
      "metadata": {
        "colab": {
          "base_uri": "https://localhost:8080/"
        },
        "id": "Q2qwuua4Kq4q",
        "outputId": "0ff09168-c708-41f1-c926-d4fc7dfd3a20"
      },
      "execution_count": null,
      "outputs": [
        {
          "output_type": "stream",
          "name": "stdout",
          "text": [
            "['players', 'group', 'electric', 'industry', 'market', 'key', 'sustainable', 'tesla', 'vehicle', 'ev']\n",
            "['2030', 'size', 'electric', 'market', 'charging', 'high', 'evs', 'share', 'batteries', 'forecast', 'usd', 'vehicle', 'report', 'ev', 'vehicles']\n",
            "['data', 'size', 'electric', 'market', 'industry', 'growth', 'share', 'spreadsheets', 'significant', 'vehicle', 'vehicles', 'analysis']\n",
            "['biggest', 'electric', 'market', 'firms', 'car', '2022', 'li', 'vehicle', 'ev', 'vehicles', 'companies']\n",
            "['company', 'plans', 'recently', 'players', 'electric', 'charging', 'key', 'evs', 'revolution', 'points', 'announced', 'vehicle', 'ev']\n",
            "['company', 'phevs', 'largest', 'motors', 'evs', 'sales', 'manufactured', '2022', '2023', 'bevs', 'ev', 'founded', 'companies']\n",
            "['segment', 'drive', 'size', 'electric', 'market', 'evs', 'growth', 'share', 'vehicle', 'ev', 'vehicles']\n",
            "['list', 'trucks', 'speciality', 'largest', 'electric', 'cap', 'market', 'stock', 'shown', 'manufacture', 'vehicle', 'ev', 'vehicles', 'companies']\n",
            "['battery', 'players', 'manufacturers', 'electric', 'industry', 'mapping', 'producers', 'key', 'components', 'lithium', 'evs', 'batteries', 'ev', 'vehicles']\n",
            "['transition', 'propulsion', 'companies', 'sector', 'spotlight', 'electric', 'energy', 'showcase', 'shifting', 'sectorwith', 'vehicle', 'vehicles']\n",
            "['2030', 'volkswagen', 'players', 'electric', 'history', 'toyota', 'growth', 'strong', 'forecast', 'volvo', 'market', 'ev', 'phev', 'insights']\n",
            "['company', 'electric', 'website', 'motor', 'market', 'world', 'headquarters', 'technology', 'cars', 'including', '15', 'vehicle', 'ev', 'vehicles', 'companies']\n",
            "['company', 'vehicle', 'electric', '15', 'sold', 'share', '2022', 'global', 'market', 'ev', 'vehicles', 'companies']\n",
            "['2030', 'propulsion', 'analysis', 'electric', 'enduser', 'key', 'region', 'passenger', '2022', 'type', 'forecast', 'source', 'market', 'report', 'ev', 'vehicles']\n",
            "['strategies', 'dynamics', 'players', 'leading', 'electric', 'market', 'supply', 'chain', 'markets', 'competitive', 'strategy', 'vehicle', 'ev']\n",
            "['vehicle', 'automotive', 'industry', 'pureplay', 'firms', 'innovative', 'market', 'ev', 'future', 'companies']\n",
            "['wall', 'leading', 'electric', 'market', 'j1772', 'power', 'plug', 'unveiled', 'gen', 'tesla', 'connector', 'global', 'vehicle', 'vehicles', 'companies']\n",
            "['company', 'vehicle', 'electric', 'launch', 'manufacturer', 'cars', 'evs', 'revenue', '2023', 'market', 'ev', 'vehicles', 'companies']\n",
            "['future', 'companys', 'auto', 'electric', 'nio', 'market', 'financial', 'investment', 'capitalization', 'growth', 'vehicle', 'vehicles', 'manufacturers']\n",
            "['company', 'players', 'size', 'industry', 'market', 'electric', 'value', 'motor', 'growth', 'trends', 'type', 'vehicle', 'ev', 'vehicles']\n"
          ]
        }
      ]
    },
    {
      "cell_type": "markdown",
      "source": [
        "**CONCLUSION - TESLA IS LEADING COMPANY IN THIS DOMAIN.\n",
        "VARIOUS COMPANY LIKE TOYOTA, VOLVO AND MANY ARE WORKING IN SAME DOMAIN.\n",
        "The global EV market is projected to reach 434.60 billion units by 2030.\n",
        "\n",
        "**"
      ],
      "metadata": {
        "id": "VbUB9eF3cgDj"
      }
    },
    {
      "cell_type": "code",
      "source": [
        "rl=li[2]\n",
        "article=Article(url)\n",
        "article.download()\n",
        "article.parse()\n",
        "print(article.text)\n",
        "article.nlp()\n",
        "print(article.summary)"
      ],
      "metadata": {
        "id": "C1WpMmOeKvHN",
        "colab": {
          "base_uri": "https://localhost:8080/"
        },
        "outputId": "0f334659-0466-453c-a4e1-eb17c6749d26"
      },
      "execution_count": null,
      "outputs": [
        {
          "output_type": "stream",
          "name": "stdout",
          "text": [
            "EV Market 2022-2030:\n",
            "\n",
            "The global electric vehicle market was valued at $163.01 billion in 2020, and is projected to reach $823.75 billion by 2030, registering a CAGR of 18.2% from 2021 to 2030.\n",
            "\n",
            "An electric vehicle operates on electricity unlike its counterpart, which runs on fuel. Instead of internal combustion engine, these vehicles run on an electric motor that requires constant supply of energy from batteries to operate. There are a variety of batteries used in these vehicles. These include lithium ion, molten salt, zinc-air, and various nickel-based designs. The electric vehicle was primarily designed to replace conventional ways of travel as they lead to environmental pollution. It has gained popularity, owing to numerous technological advancements. It outperforms conventional vehicles providing higher fuel economy, low carbon emission & maintenance, convenience of charging at home, smoother drive, and reduced sound from engine. There are three types of electric vehicles batteries, hybrid, and plug-in hybrid electric vehicles. In addition, electric vehicles require no engine oil changes but are slightly expensive than their gasoline equivalents.\n",
            "\n",
            "Factors such as increase in demand for fuel-efficient, high-performance, & low-emission vehicles, stringent government rules & regulations toward vehicle emission along with reduction in cost of electric vehicle batteries and increasing fuel costs supplement growth of the electric vehicle market. Moreover, factors such as lack of charging infrastructure, high manufacturing cost, and range anxiety and serviceability are the factors expected to hamper growth of the EV market. Furthermore, factors such as technological advancements, proactive government initiatives and development of self-driving electric vehicle technology are expected to create ample opportunities for the key players operating in the electric vehicle market.\n",
            "\n",
            "The global electric vehicle market is segmented on the basis of type, vehicle type, vehicle class, top speed, vehicle drive type, and region. By type, it is divided into battery electric vehicle (BEV), plug-in hybrid electric vehicle (PHEV), and fuel cell electric vehicle (FCEV). By vehicle type, it is classified into two-wheelers, passenger cars, and commercial vehicles. By vehicle class, it is classified into mid-priced and luxury class. On the basis of top speed, it is segmented into less than 100 MPH, 100 to 125 MPH, and more than 125 MPH. By vehicle drive type, it is segmented into front wheel drive, rear wheel drive, and all-wheel drive. By region, the market is analyzed across North, Europe, Asia-Pacific and LAMEA.\n",
            "\n",
            "Asia-Pacific held the largest market share of the global electric vehicle industry in 2020. Higher adoption rates of smart mobility services, government regulations, increase in fuel prices, and rise in trend toward adopting non-fossil fuel-based vehicles boost growth of electric vehicles in developing countries such as India, China, and Indonesia, which create lucrative opportunities for the market in this region. Increase in vehicle population and rise in vehicle standards fuel growth of Asia-Pacific. Moreover, various technological advancements related to electric vehicles are taking place, owing to government initiatives, which further propels the market growth. In addition, countries such as China, India, Australia, and Japan are mainly focusing on environmental awareness and new technologies, which drive growth of high-performance electric vehicles. Moreover, factors such as a significant rise in income levels & an increase in urbanization in emerging countries of Asia-Pacific are reliable engines of growth for the electric vehicle market. In addition, emission regulation & the subsidies for hybrid & electric vehicles in the Asia-Pacific region helped achieve a considerable portion of the overall EV market in Asia-Pacific. Passenger electric vehicles are gaining popularity among consumers by proactive participation of automotive OEMs. According to the IEA Global EV Outlook report, General Motors, Volkswagen, and others are intensifying their efforts in China & will be the leader in the 2030 market with holding shares of around 57%.\n",
            "\n",
            "Currently, China is the leader in electric vehicle manufacturing and related infrastructures & technologies. The government of China has been implementing strict emission control rules to boost passenger and commercial electric vehicles on roads, therefore, it is expected to fuel demand for electric vehicles in China.\n",
            "\n",
            "Norway is one of the fastest growing market for electric vehicles in Europe. Significant increasing adoption of electric vehicles in Norway owing to the environmental and growing fuel prices concern primarily driving the growth of EV market in country. For instance, according to report by CleanTechnica, plugin EV market share in October 2021 is at 89.3%, up from 79.1% in 2020. Also, according to Norwegian Road Foundation (OFV), overall new sales in Norway rose by 25% in 2021 to a record 176,276 cars, of which 65% were fully electric. This market share was up from 54% in 2020. Norway’s parliament has set a non-binding goal that by 2025 all the cars sold need to be zero emissions. This in turn, driving the growth of electric vehicle market in Norway.\n",
            "\n",
            "Companies have adopted product development and product launch as their key development strategies in the electric vehicle market. The key players operating in this market are Ampere Vehicles, Benling India Energy and Technology Pvt Ltd, BMW AG, BYD Company Limited, Chevrolet Motor Company, Daimler AG, Energica Motor Company S.p.A., Ford Motor Company, General Motors, Hero Electric, Hyundai Motor Company, Karma Automotive, Kia Corporation, Lucid Group, Inc., Mahindra Electric Mobility Limited, NIO, Nissan Motors Co., Ltd., Okinawa Autotech Pvt. Ltd., Rivain, Tata Motors, Tesla, Inc., Toyota Motor Corporation, Volkswagen AG, WM Motor, and Xiaopeng Motors.\n",
            "\n",
            "Key Developments:\n",
            "\n",
            "In November 2021, Hyundai Motor Company revealed SEVEN, the sport utility electric vehicle (SUEV) concept at Automobility LA, which is built upon Hyundai Motor Group’s Electric-Global Modular Platform (E-GMP) with premium lounge-experience that provides greater freedom & comfort for passengers.\n",
            "\n",
            "In December 2021, General Motors announced expanding of GM’s technology platforms to provide EV technology beyond its own portfolio & applications to meet the broad range of commercial customers & organizations.\n",
            "\n",
            "In September 2021, Mitsubishi Fuso Truck, a subsidiary of Daimler AG, signed an agreement with Bus Corporation MFTBC, to deliver 20 units of the all-electric eCanter truck to Australia Post fleet. The eCanter trucks will run in major cities across Australia to support parcel deliveries.\n",
            "\n",
            "In April 2020, BYD Company Limited and Toyota Motor Corporation formed a joint venture to conduct R&D of battery electric vehicles (BEVs). The name of the new company is BYD TOYOTA EV TECHNOLOGY CO., LTD. (BTET). BYD and Toyota will work together to meet the diverse needs of customers by researching and developing BEVs that appeal to customers and promoting their widespread adoption.\n",
            "\n",
            "COVID-19 Impact on EV Market:\n",
            "\n",
            "The COVID-19 pandemic has had an adverse effect on the overall automotive industry and thereby electric vehicle industry as well. As per the data released by Society of Electric Vehicle Manufacturers (SMEV), new EV registration of all types of electric vehicles during FY21 dropped by 20 percent compared with the number of new EV registrations in FY20.\n",
            "\n",
            "In addition, amid pandemic many different players are trying to devise different approaches in order to keep up with the condition by using electric vehicles for medical supplies as it provides affordable transportation with excellent maneuverability. For instance, Omega Seiki Mobility recently launched Rage+frost, a refrigerated load carrier three-wheeler, which is specifically designed for vaccine, pharmaceutical, and food delivery in these hard times\n",
            "\n",
            "Increase in demand for fuel-efficient, high-performance, and low-emission vehicles\n",
            "\n",
            "Gasoline being a fossil fuel is not a renewable source of energy, and is anticipated to get exhausted in the future. To support sustainable development, it is important to develop and use alternative sources of fuel. This involves use of electric vehicles, which do not use gas and are more economical than conventional vehicles. An electric vehicle converts over 50% of the electrical energy from the grid to power at the wheels, whereas the gas-powered vehicle only manages to convert about 17%–21% of the energy stored in gasoline. The demand for fuel-efficient vehicles has increased recently, owing to rise in price of petrol and diesel. This is attributed to depleting fossil fuel reserves and growth in tendency of companies to gain maximum profit from these oil reserves. Thus, these factors give rise to the need for advanced fuel-efficient technologies, leading to surge in demand for electrically powered vehicles for travel.\n",
            "\n",
            "Electric Vehicle Market By Type Your browser does not support the canvas element. Battery Electric vehicles is projected as the most lucrative segments\n",
            "\n",
            "Stringent government rules and regulations toward vehicle emission\n",
            "\n",
            "With the growing environmental concerns, governments and environmental agencies across the world are enacting stringent emission norms and laws to reduce vehicle emission. Major regulatory measures are stringent emissions targets for the reduction of nitrogen oxides (NOx) and carbon dioxide (CO2) in air. High amounts of greenhouse gases being emitted from vehicles and federal and state governments in the U.S. are stepping up efforts to make transportation cleaner.\n",
            "\n",
            "For instance, the U.S. Environmental Protection Agency (EPA) announced that they are working on new rules to decrease emissions of nitrogen oxide (NOx) and other pollutants from heavy-duty trucks. In addition, the California Air Resources Board (CARB) is adopting heavy-duty Low NOx Omnibus Regulation, aims to achieve a 90% reduction from current NOx emissions limits by 2027. Moreover, in Europe, European Union (EU) committed within the Paris agreement (COP21) to achieve its 20% greenhouse gas reduction target in 2020 for the second phase of the Kyoto Protocol. The EU has also set the target to achieve 40% greenhouse gas reduction by 2040 and net-zero by 2050.\n",
            "\n",
            "Electric Vehicle Market By Vehicle Type Your browser does not support the canvas element. Commercial vehicle segment is projected as the most lucrative segments\n",
            "\n",
            "Therefore, with enactment of the emission regulations for fossil fuel-powered vehicle, the burden on vehicle manufacturers, especially on commercial vehicle manufacturers, has further increased. This, in turn, is expected to drive the demand for electric vehicles. Thus, stringent emission norms imposed on fossil-fuel powered commercial vehicles significantly driving growth of the electric vehicle market.\n",
            "\n",
            "Lack of charging infrastructure\n",
            "\n",
            "Governments of various countries are promoting adoption of electric vehicles for commercial purpose to reduce emission of greenhouse into environment. However, lack of charging infrastructure for electric vehicles acts as an obstacle for the electric vehicle market. For instance, the Government of India is aiming to have only electric vehicle on roads by 2030. However, creation of robust electric vehicle infrastructure is one of the key requirements to ensure the adoption of electric vehicles. Unfortunately, EV charging infrastructure in most of developing countries is inadequate at present and yet to catch up to meet the requirement, which in turn is hampering the growth of the electric vehicle market. In addition, though China is one of the biggest markets for electric vehicles, the country is struggling to support the sufficient electric vehicle charging infrastructure to recharge electric fleets, which is anticipated to hindering the market. Thus, lack of charging infrastructure is restraining the growth of EV market.\n",
            "\n",
            "Electric Vehicle Market By Vehicle Class Your browser does not support the canvas element. Luxury is projected as the most lucrative segments\n",
            "\n",
            "Development of self-driving electric vehicle technology\n",
            "\n",
            "The electric vehicle market will be affected by the recent trend of self-driving trucks. Top OEMs such as Tesla, Volvo, Vera, Daimler among others have been developing self-driving electric vehicles for the market. Startups such as Waymo, Uber, Embark, Einride, TuSimple, and Ike have also started developing self-driving electric vehicles. For instance, Tesla announced a plan to launch its self-driving electric truck by the end of 2022.\n",
            "\n",
            "For instance, Waymo has started testing its self-driving trucks since January 2020. Similarly, TuSimple plans to operate autonomous routes between Pheonix and Tucson in Arizona and some areas in Texas. Further, in May 2019, Einride had started its testing for driver-less trucks. In January 2019, Daimler announced an investment of $570 million for self-driving electric vehicles. Thus, self-driving technology will increase demand for electric vehicles in the long run due to the various advantages such as reduced accident risk, easy use, and presence of value-added features. This technology is expected to mature by the next 5-6 years. Thus, development of self-driving electric vehicle technology is opportunistic for market growth.\n",
            "\n",
            "Electric Vehicle Market By Region 2030 Asia-pacific North America Europe LAMEA Europe would exhibit the highest CAGR during the forecast period 2020-2030.\n",
            "\n",
            "Key Benefits For Stakeholders\n",
            "\n",
            "This study presents the analytical depiction of the global electric vehicle market analysis along with the current trends and future estimations to depict imminent investment pockets.\n",
            "\n",
            "The overall electric vehicle market opportunity is determined by understanding profitable trends to gain a stronger foothold.\n",
            "\n",
            "The report presents information related to the key drivers, restraints, and opportunities of the global electric vehicle market with a detailed impact analysis.\n",
            "\n",
            "The current electric vehicle market is quantitatively analyzed from 2020 to 2030 to benchmark the financial competency.\n",
            "\n",
            "Porter’s five forces analysis illustrates the potency of the buyers and suppliers in the industry.\n",
            "\n",
            "Electric Vehicle Market Report Highlights\n",
            "\n",
            "Aspects Details By Type Battery Electric Vehicle\n",
            "\n",
            "Plug-in Hybrid Electric Vehicle\n",
            "\n",
            "Fuel Cell Electric Vehicle By Vehicle Type Two-Wheelers\n",
            "\n",
            "Passenger Cars\n",
            "\n",
            "Commercial Vehicles By Vehicle Class Mid-Priced\n",
            "\n",
            "Luxury By Top Speed Less Than 100 MPH\n",
            "\n",
            "100 to 125 MPH\n",
            "\n",
            "More Than 125 MPH By Vehicle Drive Type Front Wheel Drive\n",
            "\n",
            "Rear Wheel Drive\n",
            "\n",
            "All Wheel Drive By Region North America (U.S., Canada, Mexico)\n",
            "\n",
            "(U.S., Canada, Mexico) Europe (UK, Germany, France, The Netherlands, Norway, Rest of Europe)\n",
            "\n",
            "(UK, Germany, France, The Netherlands, Norway, Rest of Europe) Asia-Pacific (China, Japan, India, Singapore, South Korea, Rest of Asia-Pacific)\n",
            "\n",
            "(China, Japan, India, Singapore, South Korea, Rest of Asia-Pacific) LAMEA (Latin America, Middle East, Africa) By KEY PLAYERS Ampere Vehicles\n",
            "\n",
            "Benling India Energy and Technology Pvt Ltd\n",
            "\n",
            "BMW AG\n",
            "\n",
            "BYD Company Limited\n",
            "\n",
            "Chevrolet Motor Company\n",
            "\n",
            "Daimler AG\n",
            "\n",
            "Energica Motor Company S.p.A.\n",
            "\n",
            "Ford Motor Company\n",
            "\n",
            "General Motors\n",
            "\n",
            "Hero Electric\n",
            "\n",
            "Hyundai Motor Company\n",
            "\n",
            "Karma Automotive\n",
            "\n",
            "Kia Corporation\n",
            "\n",
            "Lucid Group, Inc.\n",
            "\n",
            "Mahindra Electric Mobility Limited\n",
            "\n",
            "NIO\n",
            "\n",
            "Nissan Motors Co., Ltd.\n",
            "\n",
            "Okinawa Autotech Pvt. Ltd.\n",
            "\n",
            "Rivain\n",
            "\n",
            "Tata Motors\n",
            "\n",
            "Tesla Inc.\n",
            "\n",
            "Toyota Motor Corporation\n",
            "\n",
            "Volkswagen AG\n",
            "\n",
            "WM Motor\n",
            "\n",
            "Xiaopeng Motors Analyst Review Electric vehicles are promising technologies with respect to reduction of global vehicular emission. Moreover, growth in demand for fuel-efficient vehicles is a key driver of the market across various countries, owing to the focus of companies on manufacturing fuel-efficient and low-cost electric vehicles. In addition, electric vehicles are currently augmented with other electronic systems, such as self-driving assist, telematics control, and tire pressure monitoring system to provide more vigilance and comfort, which augments the market growth. The market in developed countries, such as the U.S., Canada, Mexico, and Germany is projected to report a slower growth rate as compared to the developing regions, such as India, South Africa, and the Middle East, owing to rapid industrialization and high sales of vehicles in the developed region. Automobile companies focus on the production of advanced and low-maintenance electric vehicles, which have low particulate emission. For instance, Ford Motor Company is expected to launch an electric variant of the iconic Ford Mustang, by 2018, which will not suffer any loss in mileage and overall power. In addition, companies in India aim to produce downsize engines, which cater to the Bharat Stage VI emission norms, as they discharge less pollutants compared to larger engines. Usage of electric vehicles has increased in a wide range of cars, which include compact hatchbacks to SUVs and even two wheelers. The presence of fuel guzzlers in countries such as Germany, the UK, and France, where Europe has marked the presence of electric vehicle in the automotive industry by producing efficient vehicles. This further enhances the growth of the electric vehicle industry Among the analyzed regions, Asia-Pacific is the highest revenue contributor followed by Europe, North America, and LAMEA. Based on the forecast, Europe is expected to maintain the lead during the forecast period owing to an increased CAGR as compared to other regions. Author Name(s) : Akshay Jadhav | Lalit Janardhan Katare\n",
            "\n",
            "Frequently Asked Questions? Q1. What is the impact of Post COVID-19 scenario in EV market? The electric vehicle market has witnessed rapid evolution with ongoing developments in the automotive sector. Favorable government policies & support in terms of subsidies & grants, tax rebates, and other non-financial benefits in the form of carpool lane access is one of the primary factors driving the growth of the market Q2. What is the market share of plug-in hybrid electric vehicle under electric vehicle market? Based on type of electric vehicles, in 2020, the plug-in hybrid electric vehicle holds approximately 20% to 25% of the market share for electric vehicle market. Q3. How can I get sample report of electric vehicle market? The sample for electric vehicle market report can be obtained on demand from the website. Also, the 24*7 chat support and direct call services are provided to procure the sample report Q4. Who are the potential customers of electric vehicle market? The value chain for electric vehicle market includes Original equipment manufacturers (OEMs), Tier 1 manufacturers, Tier 2 manufacturers and Tier 3 manufacturers. All the producers manufacturing component for electric vehicles, the tier 1 players, and OEM would be the direct customers. Whereas, in case of independent aftermarket the retailers and distributers would be the direct customers whereas, the consumer would be the secondary customers Q5. Which are the leading players in electric vehicles? The leading players in electric vehcile market includes Tesla Inc., Toyota Motor Corporation, Volkswagen, and BMW AG. These players adopted different strategies so as to hold major market share in the electric vehicle market Q6. How can I get company profiles on top ten players of electric vehicle market? The company profiles of the top market players of electric vehicle industry can be obtained from the company profile section mentioned in the report. This section includes analysis of top ten player’s operating in the electric vehicle industry as well as their last three-year revenue, segmental revenue, product offerings, key strategies adopted, and geographical revenue generated. The company profiles of the top market players of electric vehicle industry can be obtained from the company profile section mentioned in the report. This section includes analysis of top ten player’s operating in the electric vehicle industry as well as their last three-year revenue, segmental revenue, product offerings, key strategies adopted, and geographical revenue generated Q7. Which region is and will provide more business opportunities for electric vehicles in future? Based on the electric vehicle market analysis, Asia-Pacific accounts to be highest revenue contributor in 2020 and provides more business opportunities during the forecast period whereas Europe is expected to see a lucrative growth during the forecast period which is also expected to provide more business opportunities for electric vehicle in near future Q8. Who are the service providers of electric vehicles industry? The service providers in the global electric vehicle industry are the different vehicle manufacturers who are developing better and advanced electric vehicles which are equipped with better and efficient system thus propelling the growth of the global market Q9. What are the new competitive developments in electric vehicle market? The new competitive developments in electric vehicle market includes numerous developments carried out by global electric vehicle manufacturers such as Tesla, BYD Company, Daimler AG and others.\n",
            "\n",
            "Table Of Content Loading Table Of Content...\n",
            "The global electric vehicle market is segmented on the basis of type, vehicle type, vehicle class, top speed, vehicle drive type, and region.\n",
            "By type, it is divided into battery electric vehicle (BEV), plug-in hybrid electric vehicle (PHEV), and fuel cell electric vehicle (FCEV).\n",
            "Luxury is projected as the most lucrative segmentsDevelopment of self-driving electric vehicle technologyThe electric vehicle market will be affected by the recent trend of self-driving trucks.\n",
            "What is the market share of plug-in hybrid electric vehicle under electric vehicle market?\n",
            "Based on type of electric vehicles, in 2020, the plug-in hybrid electric vehicle holds approximately 20% to 25% of the market share for electric vehicle market.\n"
          ]
        }
      ]
    },
    {
      "cell_type": "code",
      "source": [],
      "metadata": {
        "id": "ib39OxHnOaYC"
      },
      "execution_count": null,
      "outputs": []
    }
  ]
}